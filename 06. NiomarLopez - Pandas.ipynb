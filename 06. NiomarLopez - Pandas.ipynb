{
 "cells": [
  {
   "cell_type": "markdown",
   "id": "be868cf6-849c-46f9-a885-87052bc159b6",
   "metadata": {},
   "source": [
    "# Niomar Lopez\n",
    "\n",
    "## Pandas, Datasets, and Dataframes Challenge"
   ]
  },
  {
   "cell_type": "code",
   "execution_count": 1,
   "id": "786d1183-7ac8-4f5f-9278-c07e2b810e8b",
   "metadata": {},
   "outputs": [],
   "source": [
    "import pandas as pd"
   ]
  },
  {
   "cell_type": "markdown",
   "id": "7d6f531a-0844-4d5a-b1fd-5de29bdf4d67",
   "metadata": {},
   "source": [
    "# Part One:\n",
    "\n",
    "\n",
    "- Create three lists with five elements each. \n",
    "    - The first list should contain employees' first names\n",
    "    - the second their last names\n",
    "    - the third should list their ages. <br>*\\*You can make up this data.*\n",
    "- Create a data dictionary from the three lists. \n",
    "- Create a pandas Series from the employee age list. \n",
    "- Determine the average employee age.\n",
    "- Write the Series to a CSV file. "
   ]
  },
  {
   "cell_type": "code",
   "execution_count": null,
   "id": "2935ca62-ea42-4d55-85a7-836634fe00a9",
   "metadata": {},
   "outputs": [],
   "source": [
    "# Creating three lists for my employees demographics\n",
    "\n",
    "fname = ['Jim', 'Michael', 'Dwight', 'Pam', 'Angela']\n",
    "lname = ['Halpert', 'Scott', 'Schrute', 'Beesley', 'Martin']\n",
    "age =  [29, 49, 37, 28, 36]"
   ]
  },
  {
   "cell_type": "code",
   "execution_count": null,
   "id": "6849411b-1a4e-4ef2-a79b-781246945384",
   "metadata": {},
   "outputs": [],
   "source": [
    "# Creating a data dictionary from the three lists\n",
    "\n",
    "employee_demographics = {\n",
    "    \"fname\" : fname,\n",
    "    \"lname\" : lname,\n",
    "    \"age\" : age\n",
    "}\n",
    "\n",
    "print(employee_demographics)"
   ]
  },
  {
   "cell_type": "code",
   "execution_count": null,
   "id": "31b8d3bd-93ea-499e-a000-275354547adf",
   "metadata": {},
   "outputs": [],
   "source": [
    "# Creating a Pandas series from the employee age list\n",
    "\n",
    "emp_ages = pd.Series(age)\n",
    "\n",
    "print(emp_ages)"
   ]
  },
  {
   "cell_type": "code",
   "execution_count": null,
   "id": "15132d39-6992-40f0-b796-8590f69bebc5",
   "metadata": {},
   "outputs": [],
   "source": [
    "# Determining the avg employee age\n",
    "\n",
    "print(emp_ages.mean())"
   ]
  },
  {
   "cell_type": "code",
   "execution_count": null,
   "id": "8eb9d0b0-6efe-4273-84b6-ad800a7b551f",
   "metadata": {},
   "outputs": [],
   "source": [
    "# Writing the series to a .csv file\n",
    "\n",
    "#emp_ages.to_csv('employees_ages.csv')"
   ]
  },
  {
   "cell_type": "markdown",
   "id": "0414ed43-c343-4a1d-b886-e3f17bf04fdb",
   "metadata": {},
   "source": [
    "# Part 2\n",
    "\n",
    "- Import *'21st century MLB Batting.csv'* into Python as a data frame.\n",
    "- Print the first five items in the data frame.\n",
    "- Print the last six items in the data frame.\n",
    "- Determine the average of the HR column.\n",
    "- Calculate the max of the SO column.\n",
    "- Save the data frame as an Excel file.\n",
    "- Create a subset of the data frame for players with more than 40 HR.\n",
    "- Save this new subset as a json file.\n"
   ]
  },
  {
   "cell_type": "code",
   "execution_count": null,
   "id": "22a2a722-b7ae-4470-a38e-4132c018bb09",
   "metadata": {},
   "outputs": [],
   "source": [
    "# Importing the csv file into python using pandas' read_csv method\n",
    "\n",
    "mlb = pd.read_csv(\"data/21st century MLB Batting.csv\")"
   ]
  },
  {
   "cell_type": "code",
   "execution_count": null,
   "id": "05ce79c1-51c5-4c56-9888-5d18bd9ecfee",
   "metadata": {},
   "outputs": [],
   "source": [
    "# Printing out the first 5 items in the data frame\n",
    "\n",
    "mlb.head(5)"
   ]
  },
  {
   "cell_type": "code",
   "execution_count": null,
   "id": "2aec478f-5979-402f-9c84-68a307cf4199",
   "metadata": {},
   "outputs": [],
   "source": [
    "# Printing out the last 6 items in the data frame\n",
    "\n",
    "mlb.tail(6)"
   ]
  },
  {
   "cell_type": "code",
   "execution_count": null,
   "id": "1416bcba-3dc9-490a-af66-83a8fb9ff077",
   "metadata": {},
   "outputs": [],
   "source": [
    "# Determining the average of the HR column\n",
    "avg_hr = mlb['HR']\n",
    "\n",
    "avg_hr.mean()"
   ]
  },
  {
   "cell_type": "code",
   "execution_count": null,
   "id": "62ba1c96-bda7-4582-8b7c-b0a8cd00aed0",
   "metadata": {},
   "outputs": [],
   "source": [
    "# Calculating the max of the SO column\n",
    "max_so = mlb['SO']\n",
    "\n",
    "max_so.max()"
   ]
  },
  {
   "cell_type": "code",
   "execution_count": null,
   "id": "7d201af7-746c-455b-bf78-3739c1da577a",
   "metadata": {},
   "outputs": [],
   "source": [
    "# Saving max_so as an Excel file\n",
    "\n",
    "#max_so.to_excel('max_so.xlsx')"
   ]
  },
  {
   "cell_type": "code",
   "execution_count": null,
   "id": "4fe90823-0e1c-4003-ac09-1d785d4b341b",
   "metadata": {},
   "outputs": [],
   "source": [
    "# Creating a subset of the data frame for players with more than 40 HR\n",
    "\n",
    "high_hr_players = mlb[mlb['HR'] >= 40]\n",
    "\n",
    "high_hr_players"
   ]
  },
  {
   "cell_type": "code",
   "execution_count": null,
   "id": "36105bdd-86e1-4124-9582-02ed574f81cc",
   "metadata": {},
   "outputs": [],
   "source": [
    "#Saving this new subset as a json file\n",
    "\n",
    "#high_hr_players.to_json('high_hr_players.json')"
   ]
  }
 ],
 "metadata": {
  "kernelspec": {
   "display_name": "Python 3 (ipykernel)",
   "language": "python",
   "name": "python3"
  },
  "language_info": {
   "codemirror_mode": {
    "name": "ipython",
    "version": 3
   },
   "file_extension": ".py",
   "mimetype": "text/x-python",
   "name": "python",
   "nbconvert_exporter": "python",
   "pygments_lexer": "ipython3",
   "version": "3.10.9"
  }
 },
 "nbformat": 4,
 "nbformat_minor": 5
}
