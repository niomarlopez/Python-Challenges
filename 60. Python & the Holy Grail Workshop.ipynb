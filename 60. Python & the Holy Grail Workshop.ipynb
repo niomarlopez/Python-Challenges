{
 "cells": [
  {
   "cell_type": "markdown",
   "id": "adc7d995-55e9-489f-bc1f-80b967782c7d",
   "metadata": {
    "jp-MarkdownHeadingCollapsed": true,
    "tags": []
   },
   "source": [
    "# Q1\n",
    "\n",
    "The first gatekeeper you encounter is Gimli the Frugal.  He has just returned from the store where he purchased 12 items.   There was supposed to be a 15% discount, but Gimli worries that he spent too much.  \n",
    "\n",
    "The items he purchased cost: \n",
    "[32, 52, 16, 26, 61, 19, 33, 53, 23, 6, 68, 82]\n",
    "\n",
    "With his 15% discount, what total should he have paid for all the items?  \n"
   ]
  },
  {
   "cell_type": "code",
   "execution_count": 1,
   "id": "36681ae9-d9d4-4dcf-8103-f5d00371e337",
   "metadata": {},
   "outputs": [
    {
     "name": "stdout",
     "output_type": "stream",
     "text": [
      "400.35\n"
     ]
    }
   ],
   "source": [
    "original_price = [32, 52, 16, 26, 61, 19, 33, 53, 23, 6, 68, 82]\n",
    "\n",
    "# How much Gimli payed in total\n",
    "no_disc_total = sum(original_price)\n",
    "\n",
    "# how much shouldve been knocked off from the total price\n",
    "discount = no_disc_total * .15\n",
    "\n",
    "# Total he shouldve payed\n",
    "disc_total = no_disc_total - discount\n",
    "\n",
    "print(disc_total)"
   ]
  },
  {
   "cell_type": "markdown",
   "id": "9fea6a7d-c9f6-4a04-a487-2941f5c334c3",
   "metadata": {
    "jp-MarkdownHeadingCollapsed": true,
    "tags": []
   },
   "source": [
    "# Q2\n",
    "\n",
    "You next encounter a troll who asks you to help him answer a riddle before you can continue to a bridge.   He says that every visitor answers three questions before they cross the bridge, and their answers are stored in a Python dictionary.  \n",
    "\n",
    "visitor_info = {\n",
    "\n",
    "    \"name\": \"Sir Lancelot\",\n",
    "    \"quest\": \"To seek the Holy Grail\",\n",
    "    \"favorite_color\": \"Blue\"\n",
    "}\n",
    "\n",
    "The troll doesn't know how to retrieve information from the dictionary.  Can you help him find Sir Lancelot's favorite color?  \n"
   ]
  },
  {
   "cell_type": "code",
   "execution_count": 2,
   "id": "2ca89292-776c-4c16-8dd0-5b8cb0dde049",
   "metadata": {},
   "outputs": [
    {
     "name": "stdout",
     "output_type": "stream",
     "text": [
      "Blue\n"
     ]
    }
   ],
   "source": [
    "visitor_info = {\n",
    "    \"name\": \"Sir Lancelot\",\n",
    "    \"quest\": \"To seek the Holy Grail\",\n",
    "    \"favorite_color\": \"Blue\"\n",
    "}\n",
    "\n",
    "print(visitor_info['favorite_color'])"
   ]
  },
  {
   "cell_type": "markdown",
   "id": "ef128d5a-9ba5-45e5-8b3e-8c27f279daab",
   "metadata": {
    "jp-MarkdownHeadingCollapsed": true,
    "tags": []
   },
   "source": [
    "# Q3\n",
    "\n",
    "At the bridge you are approached by an elderly man scribbling numbers on a pad of paper.   He asks if you can help him.   \"I have 11 carriages that must cross a bridge.  The carriages weigh 825 pounds each.  The bridge can only hold 3000 pounds.  How many carriages can cross the bridge at one time?\" "
   ]
  },
  {
   "cell_type": "code",
   "execution_count": 3,
   "id": "0789e215-fdab-4980-8b0e-a6b4a8825f0f",
   "metadata": {},
   "outputs": [
    {
     "name": "stdout",
     "output_type": "stream",
     "text": [
      "3\n"
     ]
    }
   ],
   "source": [
    "num_crg = 11\n",
    "crg_lbs = 825\n",
    "bridge_max = 3000\n",
    "\n",
    "print(bridge_max//crg_lbs)"
   ]
  },
  {
   "cell_type": "markdown",
   "id": "cd2dfd2d-eff2-4665-8889-d107fe91199a",
   "metadata": {},
   "source": [
    "If it takes a carriage 5 minutes to cross, how long will it take 11 carriages to cross the bridge?\"  "
   ]
  },
  {
   "cell_type": "code",
   "execution_count": 4,
   "id": "2f1ca4a9-c452-43a4-b187-96c50af4e269",
   "metadata": {},
   "outputs": [
    {
     "name": "stdout",
     "output_type": "stream",
     "text": [
      "20\n"
     ]
    }
   ],
   "source": [
    "print(5*4)"
   ]
  },
  {
   "cell_type": "markdown",
   "id": "0af92638-d301-44b5-8763-9eeafc36256b",
   "metadata": {
    "jp-MarkdownHeadingCollapsed": true,
    "tags": []
   },
   "source": [
    "# Q4\n",
    "\n",
    "An old man stands before a heavy door holding in one hand two keys, one gold and one silver. The door has two locks and the man mutters as if with two voices at once with every odd word sounding in one voice and every even word sounding in another:\n",
    "\n",
    "\"The to memory obtain and something the something senses of are equal but value the must nourishment be of given creation\"\n",
    "\n",
    "You quickly understand that you will have to disentangle his words and provide to him two passwords to pass on ahead.\n",
    "\n",
    "What is the first passphrase? "
   ]
  },
  {
   "cell_type": "code",
   "execution_count": 37,
   "id": "7dcf84a7-f665-4fe1-850d-95902ea1cb01",
   "metadata": {
    "tags": []
   },
   "outputs": [
    {
     "name": "stdout",
     "output_type": "stream",
     "text": [
      "The memory and the senses are but the nourishment of creation\n"
     ]
    }
   ],
   "source": [
    "mumble = \"The to memory obtain and something the something senses of are equal but value the must nourishment be of given creation\"\n",
    "\n",
    "# splitting the mumble using the spaces as a delimeter\n",
    "p1 = mumble.split(\" \")\n",
    "\n",
    "# pulling every other word starting from index 0\n",
    "p1_new = (p1[::2])\n",
    "\n",
    "# joining the individual strings into one string\n",
    "p1_answer = \" \".join(p1_new)\n",
    "\n",
    "print(p1_answer)"
   ]
  },
  {
   "cell_type": "code",
   "execution_count": 6,
   "id": "b4c08d48-1fb3-468a-b5a1-4535ba84e2e3",
   "metadata": {
    "collapsed": true,
    "jupyter": {
     "outputs_hidden": true
    },
    "tags": []
   },
   "outputs": [
    {
     "data": {
      "text/plain": [
       "['__add__',\n",
       " '__class__',\n",
       " '__contains__',\n",
       " '__delattr__',\n",
       " '__dir__',\n",
       " '__doc__',\n",
       " '__eq__',\n",
       " '__format__',\n",
       " '__ge__',\n",
       " '__getattribute__',\n",
       " '__getitem__',\n",
       " '__getnewargs__',\n",
       " '__gt__',\n",
       " '__hash__',\n",
       " '__init__',\n",
       " '__init_subclass__',\n",
       " '__iter__',\n",
       " '__le__',\n",
       " '__len__',\n",
       " '__lt__',\n",
       " '__mod__',\n",
       " '__mul__',\n",
       " '__ne__',\n",
       " '__new__',\n",
       " '__reduce__',\n",
       " '__reduce_ex__',\n",
       " '__repr__',\n",
       " '__rmod__',\n",
       " '__rmul__',\n",
       " '__setattr__',\n",
       " '__sizeof__',\n",
       " '__str__',\n",
       " '__subclasshook__',\n",
       " 'capitalize',\n",
       " 'casefold',\n",
       " 'center',\n",
       " 'count',\n",
       " 'encode',\n",
       " 'endswith',\n",
       " 'expandtabs',\n",
       " 'find',\n",
       " 'format',\n",
       " 'format_map',\n",
       " 'index',\n",
       " 'isalnum',\n",
       " 'isalpha',\n",
       " 'isascii',\n",
       " 'isdecimal',\n",
       " 'isdigit',\n",
       " 'isidentifier',\n",
       " 'islower',\n",
       " 'isnumeric',\n",
       " 'isprintable',\n",
       " 'isspace',\n",
       " 'istitle',\n",
       " 'isupper',\n",
       " 'join',\n",
       " 'ljust',\n",
       " 'lower',\n",
       " 'lstrip',\n",
       " 'maketrans',\n",
       " 'partition',\n",
       " 'removeprefix',\n",
       " 'removesuffix',\n",
       " 'replace',\n",
       " 'rfind',\n",
       " 'rindex',\n",
       " 'rjust',\n",
       " 'rpartition',\n",
       " 'rsplit',\n",
       " 'rstrip',\n",
       " 'split',\n",
       " 'splitlines',\n",
       " 'startswith',\n",
       " 'strip',\n",
       " 'swapcase',\n",
       " 'title',\n",
       " 'translate',\n",
       " 'upper',\n",
       " 'zfill']"
      ]
     },
     "execution_count": 6,
     "metadata": {},
     "output_type": "execute_result"
    }
   ],
   "source": [
    "dir(mumble)"
   ]
  },
  {
   "cell_type": "markdown",
   "id": "a89675e2-7b39-40da-826c-22a8916a0984",
   "metadata": {},
   "source": [
    "What is the second passphrase?"
   ]
  },
  {
   "cell_type": "code",
   "execution_count": 33,
   "id": "83b70aee-e697-4c81-8619-d81551e44910",
   "metadata": {},
   "outputs": [
    {
     "name": "stdout",
     "output_type": "stream",
     "text": [
      "to obtain something something of equal value must be given\n"
     ]
    }
   ],
   "source": [
    "mumble = \"The to memory obtain and something the something senses of are equal but value the must nourishment be of given creation\"\n",
    "\n",
    "p2 = mumble.split(\" \")\n",
    "p2_new = (p2[1::2])\n",
    "p2_answer = \" \".join(p2_new)\n",
    "\n",
    "print(p2_answer)"
   ]
  },
  {
   "cell_type": "markdown",
   "id": "aeded7f8-635c-4fae-b9f0-9cf05a3123b0",
   "metadata": {
    "tags": []
   },
   "source": [
    "# Q5\n",
    "\n",
    "In the castle you find the queen fussing with a large, iron safe.   You tell her that you seek the Grail.   She says she'd happily give it to you, but it's in the safe and she's forgotten the combination.    \n",
    "\"I remember that there were 3 digits in the combination.  The sum of the digits is 7 and the product of all the digits is 8.   Also,  the second digit is larger than the first, and the third digit is larger than the second. \n",
    "You realize that you can use a loop to try out all of the combinations.  "
   ]
  },
  {
   "cell_type": "code",
   "execution_count": 8,
   "id": "72da24e1-1cd1-419f-99fa-57cec6ab15eb",
   "metadata": {
    "tags": []
   },
   "outputs": [],
   "source": [
    "x1 = 0\n",
    "x2 = 0\n",
    "x3 = 0\n",
    "\n",
    "while x1+x2+x3 == 7 and x1*x2*x3 == 8:\n",
    "    x2 > x1\n",
    "    x3 > x2\n"
   ]
  },
  {
   "cell_type": "markdown",
   "id": "fee0c863-4f91-448b-903b-c7e655d74cd6",
   "metadata": {
    "tags": []
   },
   "source": [
    "### ChatGPT's response below "
   ]
  },
  {
   "cell_type": "code",
   "execution_count": 9,
   "id": "f328866c-90a6-4f7f-ae15-6f760d25de7d",
   "metadata": {},
   "outputs": [
    {
     "name": "stdout",
     "output_type": "stream",
     "text": [
      "The correct combination is: [1, 2, 4]\n"
     ]
    }
   ],
   "source": [
    "# Initialize variables to store the correct combination\n",
    "correct_combination = []\n",
    "\n",
    "# Outer loop for the first digit (from 1 to 7, as it cannot be larger than 7)\n",
    "for digit1 in range(1, 8):\n",
    "    # Second loop for the second digit (from digit1+1 to 8, as it should be larger than the first digit and cannot be larger than 8)\n",
    "    for digit2 in range(digit1 + 1, 9):\n",
    "        # Calculate the third digit based on the sum and product conditions\n",
    "        digit3 = 7 - digit1 - digit2\n",
    "        # Check if the third digit is larger than the second and satisfies the product condition\n",
    "        if digit3 > digit2 and digit1 * digit2 * digit3 == 8:\n",
    "            correct_combination = [digit1, digit2, digit3]\n",
    "            break  # Exit the loop if we found the correct combination\n",
    "\n",
    "# Check if a correct combination was found and display the result\n",
    "if correct_combination:\n",
    "    print(\"The correct combination is:\", correct_combination)\n",
    "else:\n",
    "    print(\"No valid combination found.\")\n"
   ]
  },
  {
   "cell_type": "code",
   "execution_count": null,
   "id": "16435036-9101-40c8-951e-65f2f9086be7",
   "metadata": {},
   "outputs": [],
   "source": []
  }
 ],
 "metadata": {
  "kernelspec": {
   "display_name": "Python 3 (ipykernel)",
   "language": "python",
   "name": "python3"
  },
  "language_info": {
   "codemirror_mode": {
    "name": "ipython",
    "version": 3
   },
   "file_extension": ".py",
   "mimetype": "text/x-python",
   "name": "python",
   "nbconvert_exporter": "python",
   "pygments_lexer": "ipython3",
   "version": "3.10.9"
  }
 },
 "nbformat": 4,
 "nbformat_minor": 5
}
