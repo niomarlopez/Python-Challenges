{
 "cells": [
  {
   "cell_type": "markdown",
   "id": "807e5894-3516-4e6f-a309-384df568a952",
   "metadata": {
    "tags": []
   },
   "source": [
    "# Niomar Lopez \n",
    "## Simple Operations Challenge \n",
    "Calculate the area of the geometric figures. "
   ]
  },
  {
   "cell_type": "code",
   "execution_count": 1,
   "id": "df94a200-d636-4c06-aec8-7b2f3ea7fb0d",
   "metadata": {},
   "outputs": [],
   "source": [
    "import math as m"
   ]
  },
  {
   "cell_type": "code",
   "execution_count": 5,
   "id": "aabb5c5f-2252-4a58-90c4-e4006ae6ccde",
   "metadata": {},
   "outputs": [
    {
     "name": "stdout",
     "output_type": "stream",
     "text": [
      "The area of a square with sides eqaual to 4 is 16\n"
     ]
    }
   ],
   "source": [
    "# Calculating the area of a Square\n",
    "\n",
    "sides = 4\n",
    "area_square = sides**2\n",
    "\n",
    "print(\"The area of a square with sides eqaual to\", sides,\"is\", area_square)"
   ]
  },
  {
   "cell_type": "code",
   "execution_count": 6,
   "id": "19a3e1f3-403c-4c21-a710-a7a0514be7c0",
   "metadata": {},
   "outputs": [
    {
     "name": "stdout",
     "output_type": "stream",
     "text": [
      "The area of a rectangle with a base of 4 and a height of 8 is 32\n"
     ]
    }
   ],
   "source": [
    "# Calculating the area of a Rectangle\n",
    "\n",
    "base = 4\n",
    "height = 8\n",
    "area_rectangle = base*height\n",
    "\n",
    "print(\"The area of a rectangle with a base of 4 and a height of 8 is\", area_rectangle)"
   ]
  },
  {
   "cell_type": "code",
   "execution_count": 14,
   "id": "814158c6-c2ff-4556-89fa-a85e9abb9f67",
   "metadata": {},
   "outputs": [
    {
     "name": "stdout",
     "output_type": "stream",
     "text": [
      "The area of a triangle with a base of 7 and a height of 2 is 7.0\n"
     ]
    }
   ],
   "source": [
    "# Calculating the area of a Triangle\n",
    "\n",
    "base = 7\n",
    "height = 2\n",
    "area_triangle = .5*base*height\n",
    "\n",
    "print(\"The area of a triangle with a base of 7 and a height of 2 is\", area_triangle)"
   ]
  },
  {
   "cell_type": "code",
   "execution_count": 16,
   "id": "d5c32d37-778a-450c-9d40-1d1f7d6e631d",
   "metadata": {},
   "outputs": [
    {
     "name": "stdout",
     "output_type": "stream",
     "text": [
      "The area of an ellipse with an a-axis of 5 and a b-axis of 3 is 47.12388980384689\n"
     ]
    }
   ],
   "source": [
    "# Calculating the area of an Ellipse \n",
    "\n",
    "axis_a = 5\n",
    "axis_b = 3\n",
    "area_ellipse = m.pi*axis_a*axis_b\n",
    "\n",
    "print(\"The area of an ellipse with an a-axis of 5 and a b-axis of 3 is\", area_ellipse)"
   ]
  },
  {
   "cell_type": "code",
   "execution_count": 15,
   "id": "11634b7c-6aa4-41c6-8177-8bf06180fa30",
   "metadata": {},
   "outputs": [
    {
     "name": "stdout",
     "output_type": "stream",
     "text": [
      "The area of a trapezoid with a top base lenght of 3, bottom base lenght of 6, and height of 8 is 36.0\n"
     ]
    }
   ],
   "source": [
    "# Calculating the area of a Trapezoid\n",
    "\n",
    "base_a = 3\n",
    "base_b = 6\n",
    "height = 8\n",
    "area_trapezoid = ((base_a + base_b)/2)*height\n",
    "\n",
    "print(\"The area of a trapezoid with a top base lenght of 3, bottom base lenght of 6, and height of 8 is\", area_trapezoid)"
   ]
  },
  {
   "cell_type": "markdown",
   "id": "c8f110d7-e7d3-4d94-9a91-f87b2e056bdd",
   "metadata": {},
   "source": [
    "## Bonus Questions\n"
   ]
  },
  {
   "cell_type": "code",
   "execution_count": 23,
   "id": "d408e4dc-2cd0-4b9b-89a1-a0693d19a3d7",
   "metadata": {},
   "outputs": [
    {
     "name": "stdout",
     "output_type": "stream",
     "text": [
      "When converted to radians, 45 degrees is equal to 0.7853981633974483\n"
     ]
    }
   ],
   "source": [
    "# Converting angle 'x' from degrees to radians\n",
    "\n",
    "angle = 45\n",
    "rad_angle = m.radians(angle)\n",
    "\n",
    "print(\"When converted to radians, 45 degrees is equal to\",rad_angle)"
   ]
  },
  {
   "cell_type": "code",
   "execution_count": 26,
   "id": "c75efaef-362d-46ef-8e42-962fbc06bd17",
   "metadata": {},
   "outputs": [
    {
     "name": "stdout",
     "output_type": "stream",
     "text": [
      "The cosine of 0.7853981633974483 is 0.7071067811865476\n"
     ]
    }
   ],
   "source": [
    "# Calculating the cosine of 'rad_angle'\n",
    "\n",
    "cosine = (m.cos(rad_angle))\n",
    "\n",
    "print(\"The cosine of\", rad_angle, \"is\", cosine)"
   ]
  },
  {
   "cell_type": "code",
   "execution_count": 27,
   "id": "a1b7bdd4-fd3c-416e-ae8a-38e1f3eab224",
   "metadata": {},
   "outputs": [
    {
     "name": "stdout",
     "output_type": "stream",
     "text": [
      "The square root of 256 is 16.0\n"
     ]
    }
   ],
   "source": [
    "# Calculating the square root of a number\n",
    "\n",
    "number = 256\n",
    "sqrt = m.sqrt(number)\n",
    "\n",
    "print(\"The square root of\", number, \"is\", sqrt)"
   ]
  },
  {
   "cell_type": "code",
   "execution_count": 29,
   "id": "a4f2ef47-50b2-411f-887e-3b927f88b56c",
   "metadata": {},
   "outputs": [
    {
     "name": "stdout",
     "output_type": "stream",
     "text": [
      "When raising 4 to the 5th power, it equals 1024.0\n"
     ]
    }
   ],
   "source": [
    "# Raising the power of a digit\n",
    "\n",
    "number = 4\n",
    "power = 5\n",
    "raised_number = m.pow(number,power)\n",
    "\n",
    "print(\"When raising\", number, \"to the 5th power, it equals\", raised_number)"
   ]
  }
 ],
 "metadata": {
  "kernelspec": {
   "display_name": "Python 3 (ipykernel)",
   "language": "python",
   "name": "python3"
  },
  "language_info": {
   "codemirror_mode": {
    "name": "ipython",
    "version": 3
   },
   "file_extension": ".py",
   "mimetype": "text/x-python",
   "name": "python",
   "nbconvert_exporter": "python",
   "pygments_lexer": "ipython3",
   "version": "3.10.9"
  }
 },
 "nbformat": 4,
 "nbformat_minor": 5
}
