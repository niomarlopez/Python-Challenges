{
 "cells": [
  {
   "cell_type": "markdown",
   "id": "c837cbd9-b4eb-4545-ab9e-ad42fea95422",
   "metadata": {},
   "source": [
    "# Niomar Lopez\n",
    "\n",
    "## Calculations and Data Collections Challenge"
   ]
  },
  {
   "cell_type": "markdown",
   "id": "ae0cd1d7-5aba-492d-99dc-51fd4cc4814a",
   "metadata": {
    "tags": []
   },
   "source": [
    "## Question 1:"
   ]
  },
  {
   "cell_type": "code",
   "execution_count": 4,
   "id": "7df3ad72-6754-456e-9e1d-9178699a4511",
   "metadata": {},
   "outputs": [
    {
     "name": "stdout",
     "output_type": "stream",
     "text": [
      "5\n"
     ]
    }
   ],
   "source": [
    "# Performing a basic calculation by adding two integers together\n",
    "\n",
    "print( 2 + 3)"
   ]
  },
  {
   "cell_type": "code",
   "execution_count": null,
   "id": "da5cbc57-7cf9-449b-ac22-d6930c4046cb",
   "metadata": {},
   "outputs": [],
   "source": [
    "# Performing a basic calculation by subtracting two integers\n",
    "\n",
    "print( 5 - 3)"
   ]
  },
  {
   "cell_type": "code",
   "execution_count": null,
   "id": "08191f3d-35c0-4fd8-a0d8-ec32198e2f80",
   "metadata": {},
   "outputs": [],
   "source": [
    "# Performing a calculation by dividing two values. \n",
    "# (Have the result be an integer by using floor division.)\n",
    "\n",
    "print(12//5)"
   ]
  },
  {
   "cell_type": "code",
   "execution_count": 5,
   "id": "74bb55bd-d343-40a5-91af-8f6d15d5ea99",
   "metadata": {},
   "outputs": [
    {
     "name": "stdout",
     "output_type": "stream",
     "text": [
      "15\n"
     ]
    }
   ],
   "source": [
    "# Create a variable ‘x’, have it’s value be 10+5. Print ‘x'\n",
    "\n",
    "x = 10+5\n",
    "\n",
    "print(x)"
   ]
  },
  {
   "cell_type": "markdown",
   "id": "de5fbd52-43f2-4390-bc04-d3b48173bd5e",
   "metadata": {},
   "source": [
    "# Question 2"
   ]
  },
  {
   "cell_type": "code",
   "execution_count": 29,
   "id": "616ffb4e-de3e-4521-8fce-9313ef76d9da",
   "metadata": {},
   "outputs": [
    {
     "name": "stdout",
     "output_type": "stream",
     "text": [
      "The mitochondria is the powerhouse of the cell.\n"
     ]
    }
   ],
   "source": [
    "# Creating two strings and concatenating them.\n",
    "\n",
    "x = \"The mitochondria is \"\n",
    "y = \"the powerhouse of the cell.\"\n",
    "\n",
    "print (x + y)"
   ]
  },
  {
   "cell_type": "markdown",
   "id": "9d0c9ce2-0d6e-48c5-8b18-a92b66ff21c5",
   "metadata": {},
   "source": [
    "# Question 3"
   ]
  },
  {
   "cell_type": "code",
   "execution_count": 14,
   "id": "61b65dec-b513-49d6-88bc-ac222ede0919",
   "metadata": {},
   "outputs": [
    {
     "name": "stdout",
     "output_type": "stream",
     "text": [
      "prram\n"
     ]
    }
   ],
   "source": [
    "# Create variable ‘y’ and have the value be ‘program’. Omit letters o and g. Print the result.\n",
    "\n",
    "y = \"program\"\n",
    "\n",
    "print(y[:2]+y[4:])"
   ]
  },
  {
   "cell_type": "markdown",
   "id": "9aed04f6-e3e9-4c50-afd7-ef7c0024bb0e",
   "metadata": {},
   "source": [
    "# Question 4"
   ]
  },
  {
   "cell_type": "code",
   "execution_count": 28,
   "id": "aef768ac-0848-4bdd-b7b7-d060141bc34c",
   "metadata": {},
   "outputs": [
    {
     "name": "stdout",
     "output_type": "stream",
     "text": [
      "The length of the list 'calendar_months' is 12\n",
      "['February', 'March', 'April']\n"
     ]
    }
   ],
   "source": [
    "# Create a list called ‘calendar_months’.\n",
    "# How long is the list?\n",
    "# Print only February, March, and April.\n",
    "\n",
    "calendar_months = [\"January\", \"February\",\"March\",\"April\",\"May\",\"June\",\"July\",\"August\",\"September\",\"October\",\"November\",\"December\"]\n",
    "\n",
    "print(\"The length of the list 'calendar_months' is\", len(calendar_months))\n",
    "print(calendar_months[1:4])"
   ]
  },
  {
   "cell_type": "markdown",
   "id": "5a43e841-d12c-47c2-9c77-406dbfbf2404",
   "metadata": {},
   "source": [
    "# Questions 5 -7\n",
    "\n",
    "5. Create a sample list of your choice, using string variables. \n",
    "6. Create a second sample list of your choice, using string variables. \n",
    "7. Create a third list that concats the two sample lists you created above.\n",
    "    - Remove one item from the third list. "
   ]
  },
  {
   "cell_type": "code",
   "execution_count": 51,
   "id": "85e259b2-66d3-4d96-9eb3-ca1c254257cc",
   "metadata": {},
   "outputs": [
    {
     "name": "stdout",
     "output_type": "stream",
     "text": [
      "['Bell Peppers', 'Garlic', 'Lettuce', 'Milk', 'Yogurt', 'Cheese']\n"
     ]
    }
   ],
   "source": [
    "produce = [\"Bell Peppers\",\"Garlic\",\"Lettuce\"]\n",
    "dairy = [\"Milk\",\"Yogurt\",\"Cheese\"]\n",
    "\n",
    "shopping_list = produce + dairy\n",
    "\n",
    "print(shopping_list)"
   ]
  },
  {
   "cell_type": "code",
   "execution_count": 52,
   "id": "d90f2716-5000-40b2-81b2-0bcf92db005c",
   "metadata": {},
   "outputs": [
    {
     "name": "stdout",
     "output_type": "stream",
     "text": [
      "['Bell Peppers', 'Garlic', 'Milk', 'Yogurt', 'Cheese']\n"
     ]
    }
   ],
   "source": [
    "shopping_list.remove('Lettuce')\n",
    "\n",
    "print(shopping_list)"
   ]
  },
  {
   "cell_type": "markdown",
   "id": "4058b0b5-ba56-45c6-9892-df2846fb26f8",
   "metadata": {},
   "source": [
    "# Question 8\n",
    "\n",
    "- Create a dictionary that has four keys and assign those keys values. \n",
    "    - What is the length of the dictionary?"
   ]
  },
  {
   "cell_type": "code",
   "execution_count": 58,
   "id": "700856b0-8bce-46fd-9f98-e5134108bdd4",
   "metadata": {},
   "outputs": [
    {
     "name": "stdout",
     "output_type": "stream",
     "text": [
      "{'name': 'John Doe', 'age': 21, 'sex': 'male', 'dob': '1990-01-01'}\n"
     ]
    }
   ],
   "source": [
    "user_1 = {\n",
    "    \"name\": \"John Doe\",\n",
    "    \"age\": 21,\n",
    "    \"sex\": \"male\",\n",
    "    \"dob\": \"1990-01-01\"\n",
    "}\n",
    "\n",
    "print(user_1)"
   ]
  },
  {
   "cell_type": "code",
   "execution_count": 61,
   "id": "77cb1354-7742-479f-a414-4fb0fc1978fb",
   "metadata": {},
   "outputs": [
    {
     "name": "stdout",
     "output_type": "stream",
     "text": [
      "There are 4 keys in the user_1 dictionary\n"
     ]
    }
   ],
   "source": [
    "print(\"There are\", (len(user_1)), \"keys in the user_1 dictionary\")"
   ]
  }
 ],
 "metadata": {
  "kernelspec": {
   "display_name": "Python 3 (ipykernel)",
   "language": "python",
   "name": "python3"
  },
  "language_info": {
   "codemirror_mode": {
    "name": "ipython",
    "version": 3
   },
   "file_extension": ".py",
   "mimetype": "text/x-python",
   "name": "python",
   "nbconvert_exporter": "python",
   "pygments_lexer": "ipython3",
   "version": "3.10.9"
  }
 },
 "nbformat": 4,
 "nbformat_minor": 5
}
