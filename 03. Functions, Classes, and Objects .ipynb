{
 "cells": [
  {
   "cell_type": "markdown",
   "id": "e92a628b-a3ca-4b78-af65-468609a5e9b7",
   "metadata": {},
   "source": [
    "# Niomar Lopez\n",
    "\n",
    "# Functions, Classes, and Objects Challenge"
   ]
  },
  {
   "cell_type": "markdown",
   "id": "615be60b-337a-4e28-b4c8-da37636d3c3a",
   "metadata": {},
   "source": [
    "# Questions 1-2\n",
    "\n",
    "- Create a function that takes the height of a building (in feet) and returns how many stories (floors).<br>The math is stories = height//10\n",
    "- Use the function to calculate how many stories are in a 259 foot building"
   ]
  },
  {
   "cell_type": "code",
   "execution_count": 13,
   "id": "e7afbf55-8996-48ef-a4db-fd8a22798b64",
   "metadata": {},
   "outputs": [],
   "source": [
    "def height(height_in_feet):\n",
    "    stories = height_in_feet // 10\n",
    "    return \"If you have a building that's \"+ str(height_in_feet) + \"ft, that would equal to \"+ str(stories) + \" stories\""
   ]
  },
  {
   "cell_type": "code",
   "execution_count": 14,
   "id": "00b50a6f-7de9-400e-ab6b-bd576d68c1aa",
   "metadata": {},
   "outputs": [
    {
     "data": {
      "text/plain": [
       "\"If you have a building that's 259ft, that would equal to 25 stories\""
      ]
     },
     "execution_count": 14,
     "metadata": {},
     "output_type": "execute_result"
    }
   ],
   "source": [
    "height(259)"
   ]
  },
  {
   "cell_type": "markdown",
   "id": "1538cf79-3ba3-4a21-9b7c-025cf3daf9ee",
   "metadata": {},
   "source": [
    "# Questions 3-4\n",
    "\n",
    "- Create a lambda function that takes one parameter (a) and returns `a*a*a`.\n",
    "- Create a list of numbers called 'numbers', then use the map function with your lambda function to create a new list called 'cubes'"
   ]
  },
  {
   "cell_type": "code",
   "execution_count": 12,
   "id": "d8a944b9-9d40-4df4-9c1f-47fcc506f309",
   "metadata": {},
   "outputs": [
    {
     "name": "stdout",
     "output_type": "stream",
     "text": [
      "[1728, 91125, 12167, 166375, 32768]\n"
     ]
    }
   ],
   "source": [
    "numbers = [12, 45, 23, 55, 32]\n",
    "cubes = list(map(lambda num : num**3, numbers))\n",
    "\n",
    "print(cubes)"
   ]
  },
  {
   "cell_type": "markdown",
   "id": "bb6d96de-e3a1-4dde-a352-e5fa8cf0a732",
   "metadata": {},
   "source": [
    "# Questions 5-6\n",
    "\n",
    "- Create a class called house and give it an attribute num_bedrooms.\n",
    "    - Give the class a method called how_many_bedrooms()\n",
    "    - Create an instantiation (object) of house called my_house with 2 bedrooms.\n",
    "    - Ask the my_house object how many bedrooms it has.\n",
    "- Create another instantiation of house called white_house with 16 bedrooms"
   ]
  },
  {
   "cell_type": "code",
   "execution_count": 19,
   "id": "8234633c-124d-4083-a4da-ea52a7b563d4",
   "metadata": {},
   "outputs": [],
   "source": [
    "class house:\n",
    "    def __init__(self,num_bedrooms):\n",
    "        self.bedrooms = num_bedrooms\n",
    "    \n",
    "    def how_many_bedrooms(self):\n",
    "        return \"There are \" + str(self.bedrooms) + \" bedrooms in your home.\""
   ]
  },
  {
   "cell_type": "code",
   "execution_count": 21,
   "id": "4f4ce79d-1ae5-4703-9121-eb0d601ea7c5",
   "metadata": {},
   "outputs": [
    {
     "name": "stdout",
     "output_type": "stream",
     "text": [
      "There are 2 bedrooms in your home.\n",
      "There are 16 bedrooms in your home.\n"
     ]
    }
   ],
   "source": [
    "my_house = house(2)\n",
    "white_house = house(16)\n",
    "\n",
    "\n",
    "print(my_house.how_many_bedrooms())\n",
    "print(white_house.how_many_bedrooms())"
   ]
  }
 ],
 "metadata": {
  "kernelspec": {
   "display_name": "Python 3 (ipykernel)",
   "language": "python",
   "name": "python3"
  },
  "language_info": {
   "codemirror_mode": {
    "name": "ipython",
    "version": 3
   },
   "file_extension": ".py",
   "mimetype": "text/x-python",
   "name": "python",
   "nbconvert_exporter": "python",
   "pygments_lexer": "ipython3",
   "version": "3.10.9"
  }
 },
 "nbformat": 4,
 "nbformat_minor": 5
}
