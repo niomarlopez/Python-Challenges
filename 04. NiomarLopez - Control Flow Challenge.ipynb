{
 "cells": [
  {
   "cell_type": "markdown",
   "id": "9b4b20aa-7fdc-41c2-975e-787dbf67585d",
   "metadata": {},
   "source": [
    "# Niomar Lopez \n",
    "\n",
    "## Control Flow Challenge"
   ]
  },
  {
   "cell_type": "markdown",
   "id": "08b0f733-06cd-4099-8764-146f601bf35d",
   "metadata": {
    "tags": []
   },
   "source": [
    "## Mini Challenge 1\n",
    "\n",
    "Create a program that processes a checklist for the operation of a car. \n",
    "The checklist should take the following form:   \n",
    "If I turn the ignition and there's gas in the car and the battery is working the car will start.  \n",
    "Make a series of ifs that can fail at each step resulting in the message **\"The car will not start\"**"
   ]
  },
  {
   "cell_type": "code",
   "execution_count": 114,
   "id": "744dc4f5-afe9-4e43-ad90-4927f95a4ef2",
   "metadata": {},
   "outputs": [
    {
     "name": "stdin",
     "output_type": "stream",
     "text": [
      "Is the ignition on? True or False: true\n",
      "Is there gas in the tank? True or False: true\n",
      "Does the battery have power? True of False: true\n"
     ]
    },
    {
     "name": "stdout",
     "output_type": "stream",
     "text": [
      "Vroom Vroom\n"
     ]
    }
   ],
   "source": [
    "ign = input('Is the ignition on? True or False:')\n",
    "ign = ign.title()\n",
    "if ign == \"True\":\n",
    "    gas = input(\"Is there gas in the tank? True or False:\")\n",
    "    gas = gas.title()\n",
    "    if gas == \"True\":\n",
    "        pwr = input(\"Does the battery have power? True of False:\")\n",
    "        pwr = pwr.title()\n",
    "        if pwr == \"True\":\n",
    "             print(\"Vroom Vroom\")\n",
    "        else:\n",
    "            print(\"Your battery has no power mate; you can't drive.\")\n",
    "    else:\n",
    "        print(\"Bro, your tank got no gas; you can't drive!\")\n",
    "else:\n",
    "    print(\"Your ignition isn't working bud; you can't drive.\")"
   ]
  },
  {
   "cell_type": "markdown",
   "id": "32c6f21c-5f2b-461a-88fd-1a5e2ca0ad1d",
   "metadata": {},
   "source": [
    "# Mini Challenge 2\n",
    "\n",
    "FizzBuzz is a word game designed for children to teach them about division. In the game, each number divisible by three will be returned with a Fizz and any number divisible by four will return a Buzz, if the number is divisble by 3 and 4 return FizzBuzz. This test has very little to do with data analysis, but it can help weed out weaker applicants so it is popular with interviewers."
   ]
  },
  {
   "cell_type": "code",
   "execution_count": 104,
   "id": "87bd8b94-de6d-416a-8c73-1b61e4bb50a6",
   "metadata": {},
   "outputs": [
    {
     "name": "stdin",
     "output_type": "stream",
     "text": [
      "What number do you want to FizzBuzz?: 12\n"
     ]
    },
    {
     "name": "stdout",
     "output_type": "stream",
     "text": [
      "FizzBuzz: Your number is divisible by both 3 and 4\n"
     ]
    }
   ],
   "source": [
    "number = int(input('What number do you want to FizzBuzz?:'))\n",
    "\n",
    "if number % 3 == 0 and number % 4 == 0:\n",
    "    print(\"FizzBuzz: Your number is divisible by both 3 and 4\")\n",
    "elif number % 3 == 0:\n",
    "    print(\"Fizz: Your number is divisible by 3\")\n",
    "elif number % 4 == 0:\n",
    "    print(\"Buzz: Your number is divisible by 4\")\n",
    "else:\n",
    "    print('No Fizz and No Buzz...')"
   ]
  },
  {
   "cell_type": "markdown",
   "id": "04fa8327-d0e1-4d8b-85b4-f545306958e6",
   "metadata": {},
   "source": [
    "# Main Challenges"
   ]
  },
  {
   "cell_type": "markdown",
   "id": "3a7f2dbd-a968-4576-a185-8e3bb9649459",
   "metadata": {},
   "source": [
    "## Question 1:\n",
    "\n",
    "Create an IF code block with the following elements:\n",
    "- weevil_a has a value of 65.\n",
    "- weevil_b has a value of 150.\n",
    "- create an if statement: If weevil_a  is less than weevil_b then print \"weevil_a is the lesser of two weevils\".\n",
    "- add an 'elif' statement for the condition where weevil_b is smaller.\n",
    "- add an 'else' for the condition that they are equal. "
   ]
  },
  {
   "cell_type": "code",
   "execution_count": 5,
   "id": "d313cbcb-549e-40ef-b388-a39e79261959",
   "metadata": {},
   "outputs": [
    {
     "name": "stdout",
     "output_type": "stream",
     "text": [
      "weevil_a is the lesser of two weevils\n"
     ]
    }
   ],
   "source": [
    "weevil_a = 65\n",
    "weevil_b = 150\n",
    "\n",
    "if weevil_a < weevil_b:\n",
    "    print(\"weevil_a is the lesser of two weevils\")\n",
    "elif weevil_b < weevil_a:\n",
    "    print(\"weevil_b is the lesser of two weevils\")\n",
    "else:\n",
    "    print(\"They are both equally weevil\")"
   ]
  },
  {
   "cell_type": "markdown",
   "id": "e26d026f-bd85-4c2d-9607-e59b9e585327",
   "metadata": {},
   "source": [
    "## Question 2:\n",
    "\n",
    "Create a WHILE code block using the AND operator with the following elements:\n",
    "- x = 1\n",
    "- while x < 25 execute the following logic:\n",
    "- print x\n",
    "- IF x > 12  AND x < 20, print the statement \"the troubled teen years\". \n",
    "- increment x by 1 "
   ]
  },
  {
   "cell_type": "code",
   "execution_count": 10,
   "id": "b4a2ce9c-f30c-4910-b2b7-8354d345dfec",
   "metadata": {},
   "outputs": [
    {
     "name": "stdout",
     "output_type": "stream",
     "text": [
      "1 2 3 4 5 6 7 8 9 10 11 12 13 The troubled years\n",
      "14 The troubled years\n",
      "15 The troubled years\n",
      "16 The troubled years\n",
      "17 The troubled years\n",
      "18 The troubled years\n",
      "19 The troubled years\n",
      "20 21 22 23 24 "
     ]
    }
   ],
   "source": [
    "x = 1\n",
    "\n",
    "while x < 25:\n",
    "    print(x, end = \" \")\n",
    "    if x > 12 and x < 20:\n",
    "        print(\"The troubled years\")\n",
    "    x +=1"
   ]
  },
  {
   "cell_type": "markdown",
   "id": "e5018268-124a-4d32-9d0c-d7fb9d4b9c47",
   "metadata": {},
   "source": [
    "## Question 3:\n",
    "\n",
    "Create a FOR loop with the following elements:\n",
    "- Create a list of grocery items (e.g. groceries = ['bread', 'milk', etc...]).\n",
    "- Iterate through the list using a FOR loop and a variable 'item'.\n",
    "- Print \"I forgot the \" and then the item in the list (e.g. \"I forgot the bread\").\n",
    "- add an IF block inside the FOR loop that checks if the item == 'kale' and print \"nobody likes kale, anyway\".\n"
   ]
  },
  {
   "cell_type": "code",
   "execution_count": 23,
   "id": "6986fb51-a075-4edb-b908-c4963853b1bd",
   "metadata": {},
   "outputs": [
    {
     "name": "stdout",
     "output_type": "stream",
     "text": [
      "I forgot the bread\n",
      "I forgot the milk\n",
      "I forgot the eggs\n",
      "I forgot the kale... nobody likes kale anyway\n",
      "I forgot the cheese\n",
      "I forgot the butter\n"
     ]
    }
   ],
   "source": [
    "groceries = ['bread','milk','eggs','kale','cheese','butter']\n",
    "\n",
    "for item in groceries:\n",
    "    if item == 'kale':\n",
    "        print(\"I forgot the kale... nobody likes kale anyway\")\n",
    "        continue\n",
    "    print(\"I forgot the\", item)\n"
   ]
  }
 ],
 "metadata": {
  "kernelspec": {
   "display_name": "Python 3 (ipykernel)",
   "language": "python",
   "name": "python3"
  },
  "language_info": {
   "codemirror_mode": {
    "name": "ipython",
    "version": 3
   },
   "file_extension": ".py",
   "mimetype": "text/x-python",
   "name": "python",
   "nbconvert_exporter": "python",
   "pygments_lexer": "ipython3",
   "version": "3.10.9"
  }
 },
 "nbformat": 4,
 "nbformat_minor": 5
}
