{
 "cells": [
  {
   "cell_type": "markdown",
   "id": "821052ce-f573-454c-8d42-b9dacaf5f5c5",
   "metadata": {
    "tags": []
   },
   "source": [
    "# Niomar Lopez\n",
    "\n",
    "## NumPy Arrays and Indexing Challenge"
   ]
  },
  {
   "cell_type": "code",
   "execution_count": 1,
   "id": "c55cb76e-c358-4aab-a45e-ea4a5b186c38",
   "metadata": {},
   "outputs": [],
   "source": [
    "import numpy as np"
   ]
  },
  {
   "cell_type": "markdown",
   "id": "e383e933-306b-40f4-b9c6-311f977c5987",
   "metadata": {},
   "source": [
    "## Q1 - 2 \n",
    "\n",
    "1. Create a numpy array called ‘height in inches’ from a list 10 of numbers: [66, 68, 71, 64, 61, 74, 64, 65, 70, 71].\n",
    "2. Create a new array called ‘height_in_feet’ and make its values equal to the values in the first array divided by 12."
   ]
  },
  {
   "cell_type": "code",
   "execution_count": 2,
   "id": "ae0c7e22-51a7-4c63-a91f-dd4d707fdb09",
   "metadata": {},
   "outputs": [
    {
     "data": {
      "text/plain": [
       "array([5.5       , 5.66666667, 5.91666667, 5.33333333, 5.08333333,\n",
       "       6.16666667, 5.33333333, 5.41666667, 5.83333333, 5.91666667])"
      ]
     },
     "execution_count": 2,
     "metadata": {},
     "output_type": "execute_result"
    }
   ],
   "source": [
    "# Creating an array with the given values\n",
    "height_in_inches = np.array([66, 68, 71, 64, 61, 74, 64, 65, 70, 71])\n",
    "\n",
    "# Creating a new array that'll be created from taking the height in inches and dividing them by 12 to get height in feet.\n",
    "height_in_feet = (height_in_inches / 12)\n",
    "\n",
    "# Returning the new array 'height_in_feet'\n",
    "height_in_feet"
   ]
  },
  {
   "cell_type": "markdown",
   "id": "80c3cb32-e6d3-4dd3-b8cc-ccd8ee695485",
   "metadata": {
    "tags": []
   },
   "source": [
    "## Q3\n",
    "\n",
    "Create a 5x5 array of zeros"
   ]
  },
  {
   "cell_type": "code",
   "execution_count": 3,
   "id": "65dec730-89f8-4bb4-8c19-7e987ea55818",
   "metadata": {},
   "outputs": [
    {
     "data": {
      "text/plain": [
       "array([[0., 0., 0., 0., 0.],\n",
       "       [0., 0., 0., 0., 0.],\n",
       "       [0., 0., 0., 0., 0.],\n",
       "       [0., 0., 0., 0., 0.],\n",
       "       [0., 0., 0., 0., 0.]])"
      ]
     },
     "execution_count": 3,
     "metadata": {},
     "output_type": "execute_result"
    }
   ],
   "source": [
    "arr_z = np.zeros((5,5))\n",
    "\n",
    "arr_z"
   ]
  },
  {
   "cell_type": "markdown",
   "id": "8e501362-0e9a-4d2d-8468-e4dfec54d4ba",
   "metadata": {
    "tags": []
   },
   "source": [
    "## Q4\n",
    "\n",
    "Create an array of random floating point numbers between 0 and 100. "
   ]
  },
  {
   "cell_type": "code",
   "execution_count": 4,
   "id": "a4f51808-c47e-4218-8786-8e5529af33c4",
   "metadata": {},
   "outputs": [
    {
     "name": "stdout",
     "output_type": "stream",
     "text": [
      "[  0.           3.44827586   6.89655172  10.34482759  13.79310345\n",
      "  17.24137931  20.68965517  24.13793103  27.5862069   31.03448276\n",
      "  34.48275862  37.93103448  41.37931034  44.82758621  48.27586207\n",
      "  51.72413793  55.17241379  58.62068966  62.06896552  65.51724138\n",
      "  68.96551724  72.4137931   75.86206897  79.31034483  82.75862069\n",
      "  86.20689655  89.65517241  93.10344828  96.55172414 100.        ]\n",
      "The data type for this array is:  float64\n"
     ]
    }
   ],
   "source": [
    "arr_float = np.linspace(0,100,30)\n",
    "\n",
    "print(arr_float)\n",
    "print(\"The data type for this array is: \" , arr_float.dtype)"
   ]
  },
  {
   "cell_type": "markdown",
   "id": "5022631b-c857-4225-8f09-1dc9ca2c2d33",
   "metadata": {
    "tags": []
   },
   "source": [
    "## Q5\n",
    "\n",
    "Create an array of numbers from 0 to 75 in increments of 5.\n",
    "\n",
    "**_ASUMING THAT 75 IS INCLUSIVE_**"
   ]
  },
  {
   "cell_type": "code",
   "execution_count": 5,
   "id": "9ad705a1-ef50-4a97-a23f-976f57d4b973",
   "metadata": {},
   "outputs": [
    {
     "data": {
      "text/plain": [
       "array([ 0.,  5., 10., 15., 20., 25., 30., 35., 40., 45., 50., 55., 60.,\n",
       "       65., 70., 75.])"
      ]
     },
     "execution_count": 5,
     "metadata": {},
     "output_type": "execute_result"
    }
   ],
   "source": [
    "arr_incr = np.arange(0,75.5,5)\n",
    "\n",
    "arr_incr"
   ]
  },
  {
   "cell_type": "markdown",
   "id": "5f90793e-8b4c-4929-bcf2-36cd0af4295b",
   "metadata": {
    "tags": []
   },
   "source": [
    "# Mini Challenge - NumPy"
   ]
  },
  {
   "cell_type": "code",
   "execution_count": 6,
   "id": "75628f7a-f894-4eeb-a8fb-ca5e05a54404",
   "metadata": {},
   "outputs": [],
   "source": [
    "import numpy as np"
   ]
  },
  {
   "cell_type": "markdown",
   "id": "bd556dd6-4c10-4baf-984d-2b7235f4c873",
   "metadata": {
    "tags": []
   },
   "source": [
    "## Q1\n",
    "\n",
    "Using the following array, print the **4th element in the 2nd row**<br>\n",
    "\n",
    "`arr = np.array([[10,20,30,40,50], [600,700,800,900,1000]])`"
   ]
  },
  {
   "cell_type": "code",
   "execution_count": 7,
   "id": "6608e829-9569-4448-aebd-201c76c5c42b",
   "metadata": {},
   "outputs": [
    {
     "name": "stdout",
     "output_type": "stream",
     "text": [
      "900\n"
     ]
    }
   ],
   "source": [
    "arr = np.array([[10,20,30,40,50], [600,700,800,900,1000]])\n",
    "\n",
    "print(arr[1,3])"
   ]
  },
  {
   "cell_type": "markdown",
   "id": "8afd3a4e-51ec-4a29-b7ec-79f272d0b985",
   "metadata": {},
   "source": [
    "## Q2\n",
    "\n",
    "Using the following array, what index would you use to return the value of ‘10’<br>\n",
    "`arr = np.array([[[1, 2, 3], [4, 5, 6]], [[7, 8, 9], [10, 11, 12]]])`\n"
   ]
  },
  {
   "cell_type": "code",
   "execution_count": 8,
   "id": "ebdccbc5-366b-479b-b886-606216545d50",
   "metadata": {},
   "outputs": [
    {
     "name": "stdout",
     "output_type": "stream",
     "text": [
      "10\n"
     ]
    }
   ],
   "source": [
    "arr = np.array([[[1, 2, 3], [4, 5, 6]], [[7, 8, 9], [10, 11, 12]]])\n",
    "\n",
    "print(arr[1,1,0])"
   ]
  },
  {
   "cell_type": "markdown",
   "id": "70a626f8-0f26-4f77-b8e2-7f6a137bd366",
   "metadata": {
    "tags": []
   },
   "source": [
    "## Q3\n",
    "\n",
    "Create an array of 15 numbers evenly spaced between 0 and 140\n"
   ]
  },
  {
   "cell_type": "code",
   "execution_count": 9,
   "id": "a945cbeb-1e32-48bc-bb2e-4a499967c9bf",
   "metadata": {},
   "outputs": [
    {
     "name": "stdout",
     "output_type": "stream",
     "text": [
      "[  0.  10.  20.  30.  40.  50.  60.  70.  80.  90. 100. 110. 120. 130.\n",
      " 140.]\n"
     ]
    }
   ],
   "source": [
    "arr3 = np.linspace(0, 140, 15)  #3rd argument in `linspace` referes to the num of elements you want returned; on it's own, python will do the equally spaced incrimentations\n",
    "\n",
    "print(arr3)"
   ]
  },
  {
   "cell_type": "markdown",
   "id": "fa305232-d861-4357-937a-a13549505bf2",
   "metadata": {
    "tags": []
   },
   "source": [
    "## Q4\n",
    "\n",
    "Create an array numbers evenly spaced between 0 and 10 incremented by 0.5 \n"
   ]
  },
  {
   "cell_type": "code",
   "execution_count": 10,
   "id": "546a11ba-1a7f-49f9-ad0d-59ca68e45713",
   "metadata": {},
   "outputs": [
    {
     "name": "stdout",
     "output_type": "stream",
     "text": [
      "[ 0.   0.5  1.   1.5  2.   2.5  3.   3.5  4.   4.5  5.   5.5  6.   6.5\n",
      "  7.   7.5  8.   8.5  9.   9.5 10. ]\n"
     ]
    }
   ],
   "source": [
    "arr4 = np.arange(0, 10.5, .5) #Assuming that the 10 is inclusive\n",
    "\n",
    "print(arr4)"
   ]
  }
 ],
 "metadata": {
  "kernelspec": {
   "display_name": "Python 3 (ipykernel)",
   "language": "python",
   "name": "python3"
  },
  "language_info": {
   "codemirror_mode": {
    "name": "ipython",
    "version": 3
   },
   "file_extension": ".py",
   "mimetype": "text/x-python",
   "name": "python",
   "nbconvert_exporter": "python",
   "pygments_lexer": "ipython3",
   "version": "3.10.9"
  }
 },
 "nbformat": 4,
 "nbformat_minor": 5
}
